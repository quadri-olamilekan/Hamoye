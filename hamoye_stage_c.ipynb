{
  "nbformat": 4,
  "nbformat_minor": 0,
  "metadata": {
    "colab": {
      "name": "hamoye_stage_c.ipynb",
      "provenance": [],
      "authorship_tag": "ABX9TyMSPw2p+RypI+Zz05oOZd8e",
      "include_colab_link": true
    },
    "kernelspec": {
      "name": "python3",
      "display_name": "Python 3"
    }
  },
  "cells": [
    {
      "cell_type": "markdown",
      "metadata": {
        "id": "view-in-github",
        "colab_type": "text"
      },
      "source": [
        "<a href=\"https://colab.research.google.com/github/quadribello/Hamoye/blob/master/hamoye_stage_c.ipynb\" target=\"_parent\"><img src=\"https://colab.research.google.com/assets/colab-badge.svg\" alt=\"Open In Colab\"/></a>"
      ]
    },
    {
      "cell_type": "code",
      "metadata": {
        "id": "l4ziY9K946Rp",
        "colab_type": "code",
        "colab": {}
      },
      "source": [
        "#import important modules\n",
        "import pandas as pd\n",
        "import numpy  as np "
      ],
      "execution_count": 2,
      "outputs": []
    },
    {
      "cell_type": "code",
      "metadata": {
        "id": "uCPeTFYJ6v1i",
        "colab_type": "code",
        "colab": {
          "base_uri": "https://localhost:8080/",
          "height": 196
        },
        "outputId": "ed8f5220-02e4-423d-a58c-b9391b5588e9"
      },
      "source": [
        "df = pd.read_csv('https://query.data.world/s/wh6j7rxy2hvrn4ml75ci62apk5hgae')\n",
        "df\n",
        "df.record.value_counts()"
      ],
      "execution_count": 3,
      "outputs": [
        {
          "output_type": "stream",
          "text": [
            "/usr/local/lib/python3.6/dist-packages/IPython/core/interactiveshell.py:2718: DtypeWarning: Columns (6) have mixed types.Specify dtype option on import or set low_memory=False.\n",
            "  interactivity=interactivity, compiler=compiler, result=result)\n"
          ],
          "name": "stderr"
        },
        {
          "output_type": "execute_result",
          "data": {
            "text/plain": [
              "EFConsPerCap    9024\n",
              "BiocapTotGHA    9024\n",
              "BiocapPerCap    9023\n",
              "AreaPerCap      9023\n",
              "EFProdTotGHA    9023\n",
              "AreaTotHA       9023\n",
              "EFProdPerCap    9023\n",
              "EFConsTotGHA    9023\n",
              "Name: record, dtype: int64"
            ]
          },
          "metadata": {
            "tags": []
          },
          "execution_count": 3
        }
      ]
    },
    {
      "cell_type": "code",
      "metadata": {
        "id": "zxKpPm0E7d9t",
        "colab_type": "code",
        "colab": {
          "base_uri": "https://localhost:8080/",
          "height": 82
        },
        "outputId": "671a0cb4-b97c-476c-c2cd-80bcdc39a790"
      },
      "source": [
        "# check distribution of target variable\n",
        "df['QScore'].value_counts()\n",
        "df_na = df.isna().sum()\n",
        "# for simplicity, we will drop the rows with missing values.\n",
        "df = df.dropna()\n",
        "df.isna().sum()\n",
        "df['QScore'].value_counts()"
      ],
      "execution_count": 4,
      "outputs": [
        {
          "output_type": "execute_result",
          "data": {
            "text/plain": [
              "3A    51473\n",
              "2A      224\n",
              "1A       16\n",
              "Name: QScore, dtype: int64"
            ]
          },
          "metadata": {
            "tags": []
          },
          "execution_count": 4
        }
      ]
    },
    {
      "cell_type": "code",
      "metadata": {
        "id": "c4NsjYfP8rYB",
        "colab_type": "code",
        "colab": {
          "base_uri": "https://localhost:8080/",
          "height": 66
        },
        "outputId": "86d322ba-d107-4c4a-9c18-f861965ddf24"
      },
      "source": [
        "# An obvious change in our target variable after removing the missing values is that there are only three classes left \n",
        "# and from the distribution of the 3 classes, we can see that there is an obvious imbalance between the classes.\n",
        "# There are methods that can be applied to handle this imbalance such as oversampling and undersampling.\n",
        "# oversampling involves increasing the number of instances in the class with fewer instances while\n",
        "# undersampling involves reducing the data points in the class with more instances.\n",
        "# for now, we will convert this to a binary classification problem by combining class '2A' and '1A'\n",
        "df['QScore'] = df['QScore'].replace(['1A'],'2A')\n",
        "df.QScore.value_counts() "
      ],
      "execution_count": 5,
      "outputs": [
        {
          "output_type": "execute_result",
          "data": {
            "text/plain": [
              "3A    51473\n",
              "2A      240\n",
              "Name: QScore, dtype: int64"
            ]
          },
          "metadata": {
            "tags": []
          },
          "execution_count": 5
        }
      ]
    },
    {
      "cell_type": "code",
      "metadata": {
        "id": "HDqy-gli_B_N",
        "colab_type": "code",
        "colab": {
          "base_uri": "https://localhost:8080/",
          "height": 191
        },
        "outputId": "cde28e7e-7311-4b53-bbb8-6752a927f38a"
      },
      "source": [
        "df_2A = df[df.QScore=='2A']\n",
        "df_3A = df[df.QScore=='3A'].sample(350)\n",
        "data_df = df_2A.append(df_3A)\n",
        "data_df.head()"
      ],
      "execution_count": 6,
      "outputs": [
        {
          "output_type": "execute_result",
          "data": {
            "text/html": [
              "<div>\n",
              "<style scoped>\n",
              "    .dataframe tbody tr th:only-of-type {\n",
              "        vertical-align: middle;\n",
              "    }\n",
              "\n",
              "    .dataframe tbody tr th {\n",
              "        vertical-align: top;\n",
              "    }\n",
              "\n",
              "    .dataframe thead th {\n",
              "        text-align: right;\n",
              "    }\n",
              "</style>\n",
              "<table border=\"1\" class=\"dataframe\">\n",
              "  <thead>\n",
              "    <tr style=\"text-align: right;\">\n",
              "      <th></th>\n",
              "      <th>country</th>\n",
              "      <th>year</th>\n",
              "      <th>country_code</th>\n",
              "      <th>record</th>\n",
              "      <th>crop_land</th>\n",
              "      <th>grazing_land</th>\n",
              "      <th>forest_land</th>\n",
              "      <th>fishing_ground</th>\n",
              "      <th>built_up_land</th>\n",
              "      <th>carbon</th>\n",
              "      <th>total</th>\n",
              "      <th>QScore</th>\n",
              "    </tr>\n",
              "  </thead>\n",
              "  <tbody>\n",
              "    <tr>\n",
              "      <th>1536</th>\n",
              "      <td>Algeria</td>\n",
              "      <td>2016</td>\n",
              "      <td>4</td>\n",
              "      <td>AreaPerCap</td>\n",
              "      <td>2.072989e-01</td>\n",
              "      <td>8.112722e-01</td>\n",
              "      <td>0.048357265</td>\n",
              "      <td>0.022585</td>\n",
              "      <td>2.998367e-02</td>\n",
              "      <td>0.000000</td>\n",
              "      <td>1.119497e+00</td>\n",
              "      <td>2A</td>\n",
              "    </tr>\n",
              "    <tr>\n",
              "      <th>1537</th>\n",
              "      <td>Algeria</td>\n",
              "      <td>2016</td>\n",
              "      <td>4</td>\n",
              "      <td>AreaTotHA</td>\n",
              "      <td>8.417600e+06</td>\n",
              "      <td>3.294260e+07</td>\n",
              "      <td>1963600</td>\n",
              "      <td>917100.000000</td>\n",
              "      <td>1.217520e+06</td>\n",
              "      <td>0.000000</td>\n",
              "      <td>4.545842e+07</td>\n",
              "      <td>2A</td>\n",
              "    </tr>\n",
              "    <tr>\n",
              "      <th>1538</th>\n",
              "      <td>Algeria</td>\n",
              "      <td>2016</td>\n",
              "      <td>4</td>\n",
              "      <td>BiocapPerCap</td>\n",
              "      <td>2.021916e-01</td>\n",
              "      <td>2.636077e-01</td>\n",
              "      <td>0.027166736</td>\n",
              "      <td>0.007948</td>\n",
              "      <td>2.924496e-02</td>\n",
              "      <td>0.000000</td>\n",
              "      <td>5.301590e-01</td>\n",
              "      <td>2A</td>\n",
              "    </tr>\n",
              "    <tr>\n",
              "      <th>1539</th>\n",
              "      <td>Algeria</td>\n",
              "      <td>2016</td>\n",
              "      <td>4</td>\n",
              "      <td>BiocapTotGHA</td>\n",
              "      <td>8.210214e+06</td>\n",
              "      <td>1.070408e+07</td>\n",
              "      <td>1103135.245</td>\n",
              "      <td>322736.916200</td>\n",
              "      <td>1.187524e+06</td>\n",
              "      <td>0.000000</td>\n",
              "      <td>2.152769e+07</td>\n",
              "      <td>2A</td>\n",
              "    </tr>\n",
              "    <tr>\n",
              "      <th>1540</th>\n",
              "      <td>Algeria</td>\n",
              "      <td>2016</td>\n",
              "      <td>4</td>\n",
              "      <td>EFConsPerCap</td>\n",
              "      <td>6.280528e-01</td>\n",
              "      <td>1.810332e-01</td>\n",
              "      <td>0.162800822</td>\n",
              "      <td>0.014729</td>\n",
              "      <td>2.924496e-02</td>\n",
              "      <td>1.391455</td>\n",
              "      <td>2.407316e+00</td>\n",
              "      <td>2A</td>\n",
              "    </tr>\n",
              "  </tbody>\n",
              "</table>\n",
              "</div>"
            ],
            "text/plain": [
              "      country  year  country_code  ...    carbon         total  QScore\n",
              "1536  Algeria  2016             4  ...  0.000000  1.119497e+00      2A\n",
              "1537  Algeria  2016             4  ...  0.000000  4.545842e+07      2A\n",
              "1538  Algeria  2016             4  ...  0.000000  5.301590e-01      2A\n",
              "1539  Algeria  2016             4  ...  0.000000  2.152769e+07      2A\n",
              "1540  Algeria  2016             4  ...  1.391455  2.407316e+00      2A\n",
              "\n",
              "[5 rows x 12 columns]"
            ]
          },
          "metadata": {
            "tags": []
          },
          "execution_count": 6
        }
      ]
    },
    {
      "cell_type": "code",
      "metadata": {
        "id": "RBUUBNy-AjUV",
        "colab_type": "code",
        "colab": {
          "base_uri": "https://localhost:8080/",
          "height": 66
        },
        "outputId": "c8dcab8d-553a-4007-d335-577d82d27aa0"
      },
      "source": [
        "import sklearn.utils\n",
        "data_df = sklearn.utils.shuffle(data_df)\n",
        "data_df = data_df.reset_index(drop=True)\n",
        "data_df.shape\n",
        "data_df.QScore.value_counts()"
      ],
      "execution_count": 7,
      "outputs": [
        {
          "output_type": "execute_result",
          "data": {
            "text/plain": [
              "3A    350\n",
              "2A    240\n",
              "Name: QScore, dtype: int64"
            ]
          },
          "metadata": {
            "tags": []
          },
          "execution_count": 7
        }
      ]
    },
    {
      "cell_type": "code",
      "metadata": {
        "id": "by91z-xtQNQe",
        "colab_type": "code",
        "colab": {}
      },
      "source": [
        "#more preprocessing\n",
        "data_df = data_df.drop(columns=['country_code','country','year'])\n",
        "x = data_df.drop(columns='QScore')\n",
        "y = data_df['QScore']"
      ],
      "execution_count": 8,
      "outputs": []
    },
    {
      "cell_type": "code",
      "metadata": {
        "id": "dKRm4drIRV_0",
        "colab_type": "code",
        "colab": {
          "base_uri": "https://localhost:8080/",
          "height": 66
        },
        "outputId": "23497c20-d343-4fe6-c229-60af384b8b8e"
      },
      "source": [
        "#split the data into training and testing sets\n",
        "from sklearn.model_selection import train_test_split\n",
        "x_train,x_test,y_train,y_test = train_test_split(x, y, test_size=0.3,random_state=0)\n",
        "y_train.value_counts()"
      ],
      "execution_count": 9,
      "outputs": [
        {
          "output_type": "execute_result",
          "data": {
            "text/plain": [
              "3A    236\n",
              "2A    177\n",
              "Name: QScore, dtype: int64"
            ]
          },
          "metadata": {
            "tags": []
          },
          "execution_count": 9
        }
      ]
    },
    {
      "cell_type": "code",
      "metadata": {
        "id": "m7hQDqyISVLq",
        "colab_type": "code",
        "colab": {
          "base_uri": "https://localhost:8080/",
          "height": 261
        },
        "outputId": "b9cf7d08-6092-4838-f491-1545a890f45a"
      },
      "source": [
        "# There is still an imbalance in the class distribution. For this, we use SMOTE onlly on the training data to handle this.\n",
        "# encode categorical variable\n",
        "from sklearn.preprocessing import LabelEncoder\n",
        "encoder = LabelEncoder()\n",
        "x_train.record = encoder.fit_transform(x_train.record)\n",
        "x_test.record = encoder.fit_transform(x_test.record)\n",
        "x_test.record.value_counts()"
      ],
      "execution_count": 10,
      "outputs": [
        {
          "output_type": "stream",
          "text": [
            "/usr/local/lib/python3.6/dist-packages/pandas/core/generic.py:5303: SettingWithCopyWarning: \n",
            "A value is trying to be set on a copy of a slice from a DataFrame.\n",
            "Try using .loc[row_indexer,col_indexer] = value instead\n",
            "\n",
            "See the caveats in the documentation: https://pandas.pydata.org/pandas-docs/stable/user_guide/indexing.html#returning-a-view-versus-a-copy\n",
            "  self[name] = value\n"
          ],
          "name": "stderr"
        },
        {
          "output_type": "execute_result",
          "data": {
            "text/plain": [
              "7    26\n",
              "3    26\n",
              "6    23\n",
              "4    23\n",
              "1    22\n",
              "5    21\n",
              "0    21\n",
              "2    15\n",
              "Name: record, dtype: int64"
            ]
          },
          "metadata": {
            "tags": []
          },
          "execution_count": 10
        }
      ]
    },
    {
      "cell_type": "code",
      "metadata": {
        "id": "diW2gG10dVXa",
        "colab_type": "code",
        "colab": {
          "base_uri": "https://localhost:8080/",
          "height": 135
        },
        "outputId": "a9d1f133-9bc0-443d-fa2e-856d27672033"
      },
      "source": [
        "import imblearn\n",
        "from imblearn.over_sampling import SMOTE\n",
        "smote = SMOTE(random_state=1)\n",
        "x_train_balanced, y_balanced = smote.fit_sample(x_train, y_train)\n",
        "x_train_balanced = pd.DataFrame(x_train_balanced, columns= x_train.columns)"
      ],
      "execution_count": 11,
      "outputs": [
        {
          "output_type": "stream",
          "text": [
            "/usr/local/lib/python3.6/dist-packages/sklearn/externals/six.py:31: FutureWarning: The module is deprecated in version 0.21 and will be removed in version 0.23 since we've dropped support for Python 2.7. Please rely on the official version of six (https://pypi.org/project/six/).\n",
            "  \"(https://pypi.org/project/six/).\", FutureWarning)\n",
            "/usr/local/lib/python3.6/dist-packages/sklearn/utils/deprecation.py:144: FutureWarning: The sklearn.neighbors.base module is  deprecated in version 0.22 and will be removed in version 0.24. The corresponding classes / functions should instead be imported from sklearn.neighbors. Anything that cannot be imported from sklearn.neighbors is now part of the private API.\n",
            "  warnings.warn(message, FutureWarning)\n",
            "/usr/local/lib/python3.6/dist-packages/sklearn/utils/deprecation.py:87: FutureWarning: Function safe_indexing is deprecated; safe_indexing is deprecated in version 0.22 and will be removed in version 0.24.\n",
            "  warnings.warn(msg, category=FutureWarning)\n"
          ],
          "name": "stderr"
        }
      ]
    },
    {
      "cell_type": "code",
      "metadata": {
        "id": "1RqBeCscf6Vl",
        "colab_type": "code",
        "colab": {
          "base_uri": "https://localhost:8080/",
          "height": 391
        },
        "outputId": "2d120996-0a81-4b9f-cf98-abb54340ca9d"
      },
      "source": [
        "from sklearn.preprocessing import MinMaxScaler\n",
        "scaler = MinMaxScaler()\n",
        "normalised_train_df = scaler.fit_transform(x_train_balanced.drop(columns=['record']))\n",
        "normalised_train_df = pd.DataFrame(normalised_train_df, columns=x_train_balanced.drop(columns=['record']).columns)\n",
        "normalised_train_df['record'] = x_train_balanced['record']\n",
        "x_test = x_test.reset_index(drop=True)\n",
        "normalised_test_df = scaler.transform(x_test.drop(columns=['record']))\n",
        "normalised_test_df = pd.DataFrame(normalised_test_df, columns = x_test.drop(columns=['record']).columns)\n",
        "normalised_test_df['record']= x_test['record']\n",
        "normalised_test_df"
      ],
      "execution_count": 12,
      "outputs": [
        {
          "output_type": "execute_result",
          "data": {
            "text/html": [
              "<div>\n",
              "<style scoped>\n",
              "    .dataframe tbody tr th:only-of-type {\n",
              "        vertical-align: middle;\n",
              "    }\n",
              "\n",
              "    .dataframe tbody tr th {\n",
              "        vertical-align: top;\n",
              "    }\n",
              "\n",
              "    .dataframe thead th {\n",
              "        text-align: right;\n",
              "    }\n",
              "</style>\n",
              "<table border=\"1\" class=\"dataframe\">\n",
              "  <thead>\n",
              "    <tr style=\"text-align: right;\">\n",
              "      <th></th>\n",
              "      <th>crop_land</th>\n",
              "      <th>grazing_land</th>\n",
              "      <th>forest_land</th>\n",
              "      <th>fishing_ground</th>\n",
              "      <th>built_up_land</th>\n",
              "      <th>carbon</th>\n",
              "      <th>total</th>\n",
              "      <th>record</th>\n",
              "    </tr>\n",
              "  </thead>\n",
              "  <tbody>\n",
              "    <tr>\n",
              "      <th>0</th>\n",
              "      <td>6.240376e-03</td>\n",
              "      <td>2.981584e-02</td>\n",
              "      <td>5.714499e-03</td>\n",
              "      <td>4.508964e-02</td>\n",
              "      <td>1.497910e-02</td>\n",
              "      <td>0.000000e+00</td>\n",
              "      <td>6.192967e-03</td>\n",
              "      <td>1</td>\n",
              "    </tr>\n",
              "    <tr>\n",
              "      <th>1</th>\n",
              "      <td>1.664530e-10</td>\n",
              "      <td>1.626114e-10</td>\n",
              "      <td>3.015169e-10</td>\n",
              "      <td>7.125312e-11</td>\n",
              "      <td>4.038598e-10</td>\n",
              "      <td>8.295395e-11</td>\n",
              "      <td>1.396803e-10</td>\n",
              "      <td>4</td>\n",
              "    </tr>\n",
              "    <tr>\n",
              "      <th>2</th>\n",
              "      <td>1.744429e-03</td>\n",
              "      <td>6.333207e-04</td>\n",
              "      <td>4.628804e-05</td>\n",
              "      <td>9.359938e-05</td>\n",
              "      <td>4.702303e-03</td>\n",
              "      <td>6.939998e-03</td>\n",
              "      <td>4.179281e-03</td>\n",
              "      <td>7</td>\n",
              "    </tr>\n",
              "    <tr>\n",
              "      <th>3</th>\n",
              "      <td>6.412415e-10</td>\n",
              "      <td>7.046578e-11</td>\n",
              "      <td>6.565578e-10</td>\n",
              "      <td>2.465371e-10</td>\n",
              "      <td>6.785512e-10</td>\n",
              "      <td>0.000000e+00</td>\n",
              "      <td>2.438156e-10</td>\n",
              "      <td>2</td>\n",
              "    </tr>\n",
              "    <tr>\n",
              "      <th>4</th>\n",
              "      <td>4.221126e-02</td>\n",
              "      <td>1.002687e-02</td>\n",
              "      <td>5.696184e-02</td>\n",
              "      <td>9.819510e-03</td>\n",
              "      <td>1.207773e-02</td>\n",
              "      <td>2.790728e-02</td>\n",
              "      <td>3.255585e-02</td>\n",
              "      <td>7</td>\n",
              "    </tr>\n",
              "    <tr>\n",
              "      <th>...</th>\n",
              "      <td>...</td>\n",
              "      <td>...</td>\n",
              "      <td>...</td>\n",
              "      <td>...</td>\n",
              "      <td>...</td>\n",
              "      <td>...</td>\n",
              "      <td>...</td>\n",
              "      <td>...</td>\n",
              "    </tr>\n",
              "    <tr>\n",
              "      <th>172</th>\n",
              "      <td>1.874726e-04</td>\n",
              "      <td>4.718625e-03</td>\n",
              "      <td>1.239961e-02</td>\n",
              "      <td>9.336109e-03</td>\n",
              "      <td>3.467390e-04</td>\n",
              "      <td>0.000000e+00</td>\n",
              "      <td>2.485087e-03</td>\n",
              "      <td>1</td>\n",
              "    </tr>\n",
              "    <tr>\n",
              "      <th>173</th>\n",
              "      <td>3.457384e-11</td>\n",
              "      <td>6.869966e-11</td>\n",
              "      <td>2.294683e-10</td>\n",
              "      <td>2.114188e-10</td>\n",
              "      <td>2.140205e-11</td>\n",
              "      <td>1.256838e-10</td>\n",
              "      <td>1.180628e-10</td>\n",
              "      <td>6</td>\n",
              "    </tr>\n",
              "    <tr>\n",
              "      <th>174</th>\n",
              "      <td>2.172260e-10</td>\n",
              "      <td>7.481774e-10</td>\n",
              "      <td>2.646499e-10</td>\n",
              "      <td>2.940015e-09</td>\n",
              "      <td>4.388849e-10</td>\n",
              "      <td>0.000000e+00</td>\n",
              "      <td>2.518825e-10</td>\n",
              "      <td>2</td>\n",
              "    </tr>\n",
              "    <tr>\n",
              "      <th>175</th>\n",
              "      <td>6.251869e-05</td>\n",
              "      <td>8.106238e-04</td>\n",
              "      <td>1.452601e-04</td>\n",
              "      <td>2.505150e-05</td>\n",
              "      <td>5.018482e-05</td>\n",
              "      <td>5.200568e-05</td>\n",
              "      <td>1.224699e-04</td>\n",
              "      <td>5</td>\n",
              "    </tr>\n",
              "    <tr>\n",
              "      <th>176</th>\n",
              "      <td>3.500587e-03</td>\n",
              "      <td>4.070397e-04</td>\n",
              "      <td>4.810262e-03</td>\n",
              "      <td>2.427608e-03</td>\n",
              "      <td>6.029387e-03</td>\n",
              "      <td>1.003651e-03</td>\n",
              "      <td>2.126593e-03</td>\n",
              "      <td>7</td>\n",
              "    </tr>\n",
              "  </tbody>\n",
              "</table>\n",
              "<p>177 rows × 8 columns</p>\n",
              "</div>"
            ],
            "text/plain": [
              "        crop_land  grazing_land  ...         total  record\n",
              "0    6.240376e-03  2.981584e-02  ...  6.192967e-03       1\n",
              "1    1.664530e-10  1.626114e-10  ...  1.396803e-10       4\n",
              "2    1.744429e-03  6.333207e-04  ...  4.179281e-03       7\n",
              "3    6.412415e-10  7.046578e-11  ...  2.438156e-10       2\n",
              "4    4.221126e-02  1.002687e-02  ...  3.255585e-02       7\n",
              "..            ...           ...  ...           ...     ...\n",
              "172  1.874726e-04  4.718625e-03  ...  2.485087e-03       1\n",
              "173  3.457384e-11  6.869966e-11  ...  1.180628e-10       6\n",
              "174  2.172260e-10  7.481774e-10  ...  2.518825e-10       2\n",
              "175  6.251869e-05  8.106238e-04  ...  1.224699e-04       5\n",
              "176  3.500587e-03  4.070397e-04  ...  2.126593e-03       7\n",
              "\n",
              "[177 rows x 8 columns]"
            ]
          },
          "metadata": {
            "tags": []
          },
          "execution_count": 12
        }
      ]
    },
    {
      "cell_type": "code",
      "metadata": {
        "id": "GOsKyl-2QCr4",
        "colab_type": "code",
        "colab": {
          "base_uri": "https://localhost:8080/",
          "height": 98
        },
        "outputId": "e3a8acc9-4a1a-4f26-82f0-2b0406983c91"
      },
      "source": [
        "#Logistic Regression\n",
        "from sklearn.linear_model import LogisticRegression\n",
        "log_reg = LogisticRegression()\n",
        "log_reg.fit(normalised_train_df,y_balanced)\n",
        "LogisticRegression(C=1.0, class_weight=None, dual=False, fit_intercept=True, intercept_scaling=1, l1_ratio=None, max_iter=100, multi_class='auto', n_jobs=None, penalty='12', \n",
        "                   random_state=None, solver='lbfgs', tol=0.0001, verbose=0, warm_start=False)"
      ],
      "execution_count": null,
      "outputs": [
        {
          "output_type": "execute_result",
          "data": {
            "text/plain": [
              "LogisticRegression(C=1.0, class_weight=None, dual=False, fit_intercept=True,\n",
              "                   intercept_scaling=1, l1_ratio=None, max_iter=100,\n",
              "                   multi_class='auto', n_jobs=None, penalty='12',\n",
              "                   random_state=None, solver='lbfgs', tol=0.0001, verbose=0,\n",
              "                   warm_start=False)"
            ]
          },
          "metadata": {
            "tags": []
          },
          "execution_count": 14
        }
      ]
    },
    {
      "cell_type": "markdown",
      "metadata": {
        "id": "seHScncwa4oM",
        "colab_type": "text"
      },
      "source": [
        "##Measuring Classification Performance"
      ]
    },
    {
      "cell_type": "code",
      "metadata": {
        "id": "EYDUFjyea_Pt",
        "colab_type": "code",
        "colab": {
          "base_uri": "https://localhost:8080/",
          "height": 33
        },
        "outputId": "141e8921-75ff-492e-8a05-2f322fa1e4f5"
      },
      "source": [
        "#Cross-validation and accuracy\n",
        "from sklearn.model_selection import cross_val_score\n",
        "scores = cross_val_score(log_reg, normalised_train_df, y_balanced, cv=5, scoring='f1_macro')\n",
        "scores"
      ],
      "execution_count": null,
      "outputs": [
        {
          "output_type": "execute_result",
          "data": {
            "text/plain": [
              "array([0.50086806, 0.49365794, 0.47433628, 0.47340426, 0.56286796])"
            ]
          },
          "metadata": {
            "tags": []
          },
          "execution_count": 13
        }
      ]
    },
    {
      "cell_type": "code",
      "metadata": {
        "id": "Mq6ufgUwglWu",
        "colab_type": "code",
        "colab": {
          "base_uri": "https://localhost:8080/",
          "height": 98
        },
        "outputId": "58856fbe-393c-4546-b9a3-d38a941fe247"
      },
      "source": [
        "#k-Fold Cross Validation\n",
        "from sklearn.metrics import f1_score\n",
        "from sklearn.model_selection import KFold\n",
        "kf = KFold(n_splits=5)\n",
        "kf.split(normalised_train_df)\n",
        "f1_scores = []\n",
        "#run for every split\n",
        "for train_index, test_index in kf.split(normalised_train_df):\n",
        "  x_train, x_test = normalised_train_df.iloc[train_index],normalised_train_df.iloc[test_index]\n",
        "  y_train, y_test = y_balanced[train_index], y_balanced[test_index]\n",
        "  model = LogisticRegression().fit(x_train, y_train)\n",
        "  #save result to list\n",
        "  f1_scores.append(f1_score(y_true=y_test, y_pred=model.predict(x_test), pos_label='2A')*100)\n",
        "f1_scores"
      ],
      "execution_count": null,
      "outputs": [
        {
          "output_type": "execute_result",
          "data": {
            "text/plain": [
              "[47.69230769230769,\n",
              " 63.38028169014084,\n",
              " 53.73134328358209,\n",
              " 66.66666666666666,\n",
              " 0.0]"
            ]
          },
          "metadata": {
            "tags": []
          },
          "execution_count": 14
        }
      ]
    },
    {
      "cell_type": "code",
      "metadata": {
        "id": "vAVDYISnx4h3",
        "colab_type": "code",
        "colab": {
          "base_uri": "https://localhost:8080/",
          "height": 98
        },
        "outputId": "babfe4f3-c5cf-44b0-845b-07536c38841b"
      },
      "source": [
        "# Stratifield K-Fold Cross Validation\n",
        "from sklearn.model_selection import StratifiedKFold\n",
        "from sklearn.model_selection import KFold\n",
        "skf = StratifiedKFold(n_splits=5, shuffle=True, random_state=1)\n",
        "f2_scores = []\n",
        "#run for every split\n",
        "for train_index, test_index in skf.split(normalised_train_df, y_balanced):\n",
        "  x_train, x_test = np.array(normalised_train_df)[train_index], np.array(normalised_train_df)[test_index]\n",
        "  y_train, y_test = y_balanced[train_index], y_balanced[test_index]\n",
        "  model = LogisticRegression().fit(x_train, y_train)\n",
        "  #save result to list\n",
        "  f2_scores.append(f1_score(y_true=y_test, y_pred=model.predict(x_test), pos_label='2A')*100)\n",
        "f2_scores"
      ],
      "execution_count": null,
      "outputs": [
        {
          "output_type": "execute_result",
          "data": {
            "text/plain": [
              "[58.18181818181818,\n",
              " 60.8,\n",
              " 61.403508771929815,\n",
              " 44.68085106382979,\n",
              " 48.97959183673469]"
            ]
          },
          "metadata": {
            "tags": []
          },
          "execution_count": 15
        }
      ]
    },
    {
      "cell_type": "code",
      "metadata": {
        "id": "_0UJ9j4H1Jrc",
        "colab_type": "code",
        "colab": {
          "base_uri": "https://localhost:8080/",
          "height": 33
        },
        "outputId": "22526874-eb35-4286-f85a-0a1bed548f8c"
      },
      "source": [
        "# Leave One Out Cross Validation(LOOCV)\n",
        "from sklearn.model_selection import LeaveOneOut\n",
        "loo = LeaveOneOut()\n",
        "scores = cross_val_score(LogisticRegression(), normalised_train_df, y_balanced, cv=loo, scoring='f1_macro')\n",
        "average_score = scores.mean()*100\n",
        "average_score"
      ],
      "execution_count": null,
      "outputs": [
        {
          "output_type": "execute_result",
          "data": {
            "text/plain": [
              "37.096774193548384"
            ]
          },
          "metadata": {
            "tags": []
          },
          "execution_count": 16
        }
      ]
    },
    {
      "cell_type": "code",
      "metadata": {
        "id": "h8gu2jZ-4Gtn",
        "colab_type": "code",
        "colab": {
          "base_uri": "https://localhost:8080/",
          "height": 50
        },
        "outputId": "84af2a62-f15e-4d24-8fba-9913383ba9ef"
      },
      "source": [
        "from sklearn.metrics import recall_score, accuracy_score, precision_score, f1_score, confusion_matrix\n",
        "new_predictions = log_reg.predict(normalised_test_df)\n",
        "# Confusion Matrix\n",
        "cnf_mat = confusion_matrix(y_true=y_test, y_pred=new_predictions, labels=['2A','3A'])\n",
        "cnf_mat"
      ],
      "execution_count": null,
      "outputs": [
        {
          "output_type": "execute_result",
          "data": {
            "text/plain": [
              "array([[43, 25],\n",
              "       [73, 36]])"
            ]
          },
          "metadata": {
            "tags": []
          },
          "execution_count": 19
        }
      ]
    },
    {
      "cell_type": "code",
      "metadata": {
        "id": "zGuzl_kpHqNC",
        "colab_type": "code",
        "colab": {
          "base_uri": "https://localhost:8080/",
          "height": 33
        },
        "outputId": "b9ebd625-217c-44dd-86fb-4e6533e4109e"
      },
      "source": [
        "#accuracy\n",
        "accuracy = accuracy_score(y_true=y_test, y_pred=new_predictions)\n",
        "print('Accuracy: {}'.format(round(accuracy*100),2))"
      ],
      "execution_count": null,
      "outputs": [
        {
          "output_type": "stream",
          "text": [
            "Accuracy: 45.0\n"
          ],
          "name": "stdout"
        }
      ]
    },
    {
      "cell_type": "code",
      "metadata": {
        "id": "atNBzBkJISrv",
        "colab_type": "code",
        "colab": {
          "base_uri": "https://localhost:8080/",
          "height": 33
        },
        "outputId": "c294e03a-8be3-42f9-9a33-58bfcbb18ccf"
      },
      "source": [
        "# precision\n",
        "precision = precision_score(y_true=y_test, y_pred=new_predictions, pos_label='2A')\n",
        "print('Precision: {}'.format(round(precision*100), 2))"
      ],
      "execution_count": null,
      "outputs": [
        {
          "output_type": "stream",
          "text": [
            "Precision: 37.0\n"
          ],
          "name": "stdout"
        }
      ]
    },
    {
      "cell_type": "code",
      "metadata": {
        "id": "3IAGM4CeYZ7C",
        "colab_type": "code",
        "colab": {
          "base_uri": "https://localhost:8080/",
          "height": 33
        },
        "outputId": "3261efea-85ac-4a61-c0bb-c4d522cdaea0"
      },
      "source": [
        "#Recall\n",
        "recall = recall_score(y_true=y_test, y_pred=new_predictions, pos_label='2A')\n",
        "print('Recall: {}'.format(round(recall*100),2))"
      ],
      "execution_count": null,
      "outputs": [
        {
          "output_type": "stream",
          "text": [
            "Recall: 63.0\n"
          ],
          "name": "stdout"
        }
      ]
    },
    {
      "cell_type": "code",
      "metadata": {
        "id": "vFD0fCh1ZOYN",
        "colab_type": "code",
        "colab": {
          "base_uri": "https://localhost:8080/",
          "height": 33
        },
        "outputId": "8dee2949-7d56-474a-851f-ebd4d3e6856f"
      },
      "source": [
        "#F1-Score\n",
        "f1 = f1_score(y_true=y_test, y_pred=new_predictions, pos_label='2A')\n",
        "print('F1: {}'.format(round(f1*100),2))"
      ],
      "execution_count": null,
      "outputs": [
        {
          "output_type": "stream",
          "text": [
            "F1: 47.0\n"
          ],
          "name": "stdout"
        }
      ]
    },
    {
      "cell_type": "markdown",
      "metadata": {
        "id": "KHloWWKj_AZw",
        "colab_type": "text"
      },
      "source": [
        "##Tree-Based Methods and the Support Vector Machine"
      ]
    },
    {
      "cell_type": "code",
      "metadata": {
        "id": "EerR8yxl_gLW",
        "colab_type": "code",
        "colab": {
          "base_uri": "https://localhost:8080/",
          "height": 115
        },
        "outputId": "8299c411-fdf1-49b8-bd5c-e624e12e61fc"
      },
      "source": [
        "from sklearn.tree import DecisionTreeClassifier\n",
        "dec_tree = DecisionTreeClassifier()\n",
        "dec_tree.fit(normalised_train_df, y_balanced)"
      ],
      "execution_count": 13,
      "outputs": [
        {
          "output_type": "execute_result",
          "data": {
            "text/plain": [
              "DecisionTreeClassifier(ccp_alpha=0.0, class_weight=None, criterion='gini',\n",
              "                       max_depth=None, max_features=None, max_leaf_nodes=None,\n",
              "                       min_impurity_decrease=0.0, min_impurity_split=None,\n",
              "                       min_samples_leaf=1, min_samples_split=2,\n",
              "                       min_weight_fraction_leaf=0.0, presort='deprecated',\n",
              "                       random_state=None, splitter='best')"
            ]
          },
          "metadata": {
            "tags": []
          },
          "execution_count": 13
        }
      ]
    }
  ]
}
{
  "nbformat": 4,
  "nbformat_minor": 0,
  "metadata": {
    "colab": {
      "name": "introduction_to_keras_and_tensorflow.ipynb",
      "provenance": [],
      "collapsed_sections": [],
      "authorship_tag": "ABX9TyOyHC4VeamLRh0pfjldXo17",
      "include_colab_link": true
    },
    "kernelspec": {
      "name": "python3",
      "display_name": "Python 3"
    }
  },
  "cells": [
    {
      "cell_type": "markdown",
      "metadata": {
        "id": "view-in-github",
        "colab_type": "text"
      },
      "source": [
        "<a href=\"https://colab.research.google.com/github/quadribello/Hamoye/blob/master/introduction_to_keras_and_tensorflow.ipynb\" target=\"_parent\"><img src=\"https://colab.research.google.com/assets/colab-badge.svg\" alt=\"Open In Colab\"/></a>"
      ]
    },
    {
      "cell_type": "code",
      "metadata": {
        "id": "Jf7dNLktqv-M",
        "colab_type": "code",
        "colab": {}
      },
      "source": [
        "import numpy as np\n",
        "import matplotlib.pyplot as plt\n",
        "import tensorflow as tf \n",
        "from tensorflow import keras \n",
        "mnist = keras.datasets.mnist\n",
        "(train_images, train_labels), (test_images, test_labels) = mnist.load_data()"
      ],
      "execution_count": 22,
      "outputs": []
    },
    {
      "cell_type": "code",
      "metadata": {
        "id": "NBJy_oSvH1oy",
        "colab_type": "code",
        "colab": {
          "base_uri": "https://localhost:8080/",
          "height": 34
        },
        "outputId": "3e140a4a-03c0-47f8-b737-8020cc113792"
      },
      "source": [
        "print(\"Training data: {},{}\".format(train_images.shape, train_labels.shape))"
      ],
      "execution_count": 23,
      "outputs": [
        {
          "output_type": "stream",
          "text": [
            "Training data: (60000, 28, 28),(60000,)\n"
          ],
          "name": "stdout"
        }
      ]
    },
    {
      "cell_type": "code",
      "metadata": {
        "id": "oee56NqbITAX",
        "colab_type": "code",
        "colab": {
          "base_uri": "https://localhost:8080/",
          "height": 34
        },
        "outputId": "70147a57-8b55-4b33-fc06-9995caf76a78"
      },
      "source": [
        "print(\"Test data: {},{}\".format(test_images.shape, test_labels.shape))"
      ],
      "execution_count": 24,
      "outputs": [
        {
          "output_type": "stream",
          "text": [
            "Test data: (10000, 28, 28),(10000,)\n"
          ],
          "name": "stdout"
        }
      ]
    },
    {
      "cell_type": "code",
      "metadata": {
        "id": "LkBWExVtI-n3",
        "colab_type": "code",
        "colab": {}
      },
      "source": [
        "class_labels = np.unique(train_labels)"
      ],
      "execution_count": 25,
      "outputs": []
    },
    {
      "cell_type": "code",
      "metadata": {
        "id": "0E9h5sdwJfYW",
        "colab_type": "code",
        "colab": {
          "base_uri": "https://localhost:8080/",
          "height": 34
        },
        "outputId": "a08c623e-88ca-4c54-c683-8c749b5299e6"
      },
      "source": [
        "print(\"There are {} classes in the dataset. They are: {}\".format(len(class_labels), class_labels))"
      ],
      "execution_count": 26,
      "outputs": [
        {
          "output_type": "stream",
          "text": [
            "There are 10 classes in the dataset. They are: [0 1 2 3 4 5 6 7 8 9]\n"
          ],
          "name": "stdout"
        }
      ]
    },
    {
      "cell_type": "code",
      "metadata": {
        "id": "B-Wo2fKeJ8Ch",
        "colab_type": "code",
        "colab": {
          "base_uri": "https://localhost:8080/",
          "height": 195
        },
        "outputId": "c3a875bc-2057-456b-f9a7-ca4029817a06"
      },
      "source": [
        "plt.figure(figsize=(8,5))\n",
        "plt.subplot(1,3,1)\n",
        "plt.imshow(train_images[0])\n",
        "plt.title(\"Label: {}\".format(train_labels[0]))\n",
        "plt.subplot(1,3,2)\n",
        "plt.imshow(train_images[2500])\n",
        "plt.title(\"Label: {}\".format(train_labels[2500]))\n",
        "plt.subplot(1,3,3)\n",
        "plt.imshow(test_images[12])\n",
        "plt.show()"
      ],
      "execution_count": 27,
      "outputs": [
        {
          "output_type": "display_data",
          "data": {
            "image/png": "[encoded data removed]",
            "text/plain": [
              "<Figure size 576x360 with 3 Axes>"
            ]
          },
          "metadata": {
            "tags": [],
            "needs_background": "light"
          }
        }
      ]
    },
    {
      "cell_type": "code",
      "metadata": {
        "id": "fMmtxMFDb4b-",
        "colab_type": "code",
        "colab": {}
      },
      "source": [
        "# As usual, we scale our dataset to range between 0 and 1. In this dataset, the pixel values range from 0 to 255.\n",
        "# Dividing the data by 255 scales to the required range\n",
        "train_images = train_images / 255.0\n",
        "test_images = test_images / 255.0 "
      ],
      "execution_count": 28,
      "outputs": []
    },
    {
      "cell_type": "code",
      "metadata": {
        "id": "oKAQn2tfhPsT",
        "colab_type": "code",
        "colab": {
          "base_uri": "https://localhost:8080/",
          "height": 85
        },
        "outputId": "be1a6d30-c269-4c25-aa82-7bc79483a134"
      },
      "source": [
        "# Split training data to training and validation sets.\n",
        "x_train = train_images[0:50000]\n",
        "x_val = train_images[50000:]\n",
        "y_train = train_labels[0:50000]\n",
        "y_val = train_labels[50000:]\n",
        "print(\"x_train: {}\".format(x_train.shape))\n",
        "print(\"x_val: {}\".format(x_val.shape))\n",
        "print(\"y_train: {}\".format(y_train.shape))\n",
        "print(\"y_val: {}\".format(y_val.shape))"
      ],
      "execution_count": 29,
      "outputs": [
        {
          "output_type": "stream",
          "text": [
            "x_train: (50000, 28, 28)\n",
            "x_val: (10000, 28, 28)\n",
            "y_train: (50000,)\n",
            "y_val: (10000,)\n"
          ],
          "name": "stdout"
        }
      ]
    },
    {
      "cell_type": "code",
      "metadata": {
        "id": "e4kvawm0THtO",
        "colab_type": "code",
        "colab": {
          "base_uri": "https://localhost:8080/",
          "height": 68
        },
        "outputId": "60d6d80a-8432-4fe5-d35a-b0f46477f3ea"
      },
      "source": [
        "# Reshape data from 28 * 28 array to a single array\n",
        "new_dimension = np.prod(train_images.shape[1:])\n",
        "x_train = x_train.reshape(x_train.shape[0], new_dimension)\n",
        "x_val = x_val.reshape(x_val.shape[0], new_dimension)\n",
        "test_images = test_images.reshape(test_images.shape[0], new_dimension)\n",
        "\n",
        "print(\"x_train: {}\".format(x_train.shape))\n",
        "print(\"x_val: {}\".format(x_val.shape))\n",
        "print(\"test_images: {}\".format(test_images.shape))"
      ],
      "execution_count": 30,
      "outputs": [
        {
          "output_type": "stream",
          "text": [
            "x_train: (50000, 784)\n",
            "x_val: (10000, 784)\n",
            "test_images: (10000, 784)\n"
          ],
          "name": "stdout"
        }
      ]
    },
    {
      "cell_type": "code",
      "metadata": {
        "id": "Hi3n8Sl5XVpc",
        "colab_type": "code",
        "colab": {}
      },
      "source": [
        "# Encode labels to categorical variables\n",
        "from  tensorflow.keras.utils import to_categorical\n",
        "no_labels = 10\n",
        "y_train = to_categorical(y_train, no_labels)\n",
        "y_val = to_categorical(y_val, no_labels)\n",
        "y_test = to_categorical(test_labels, no_labels)"
      ],
      "execution_count": 31,
      "outputs": []
    },
    {
      "cell_type": "markdown",
      "metadata": {
        "id": "HU5DKjgryxw9",
        "colab_type": "text"
      },
      "source": [
        "## Activation functions and Neural Networks Hyperparameters"
      ]
    },
    {
      "cell_type": "code",
      "metadata": {
        "id": "SBW6l1ypzwzz",
        "colab_type": "code",
        "colab": {}
      },
      "source": [
        "import tensorflow.compat.v1 as tf\n",
        "tf.disable_v2_behavior()"
      ],
      "execution_count": 32,
      "outputs": []
    },
    {
      "cell_type": "code",
      "metadata": {
        "id": "8Mn9__IJbGUP",
        "colab_type": "code",
        "colab": {}
      },
      "source": [
        "# inputs\n",
        "# placeholders are not enabled in tf 2\n",
        "X = tf.placeholder(tf.float32, [None, new_dimension])\n",
        "Y = tf.placeholder(tf.float32, [None, no_labels])"
      ],
      "execution_count": 33,
      "outputs": []
    },
    {
      "cell_type": "code",
      "metadata": {
        "id": "U_HgHY4a15Ve",
        "colab_type": "code",
        "colab": {}
      },
      "source": [
        "# create model architecture \n",
        "def multilayer_perceptron(x, no_classes, first_layer_neurons=256, second_layer_neurons=128):\n",
        "  # first layer\n",
        "  first_weight = tf.Variable(tf.random_uniform([new_dimension, first_layer_neurons]))\n",
        "  first_bias = tf.Variable(tf.zeros([first_layer_neurons]))\n",
        "  first_layer_output = tf.nn.relu(tf.add(tf.matmul(x, first_weight), first_bias))\n",
        "  # second layer \n",
        "  second_weight = tf.Variable(tf.random_uniform([first_layer_neurons, second_layer_neurons]))\n",
        "  second_bias = tf.Variable(tf.zeros([second_layer_neurons]))\n",
        "  second_layer_output = tf.nn.relu(tf.add(tf.matmul(first_layer_output, second_weight), second_bias))\n",
        "  # output layer \n",
        "  final_weight = tf.Variable(tf.random_uniform([second_layer_neurons, no_classes]))\n",
        "  final_bias = tf.Variable(tf.zeros([no_classes]))\n",
        "  logits = tf.add(tf.matmul(second_layer_output, final_weight), final_bias) \n",
        "  return logits\n",
        "logits = multilayer_perceptron(X, no_labels)\n"
      ],
      "execution_count": 34,
      "outputs": []
    },
    {
      "cell_type": "code",
      "metadata": {
        "id": "JJPUOsn4k_ls",
        "colab_type": "code",
        "colab": {
          "base_uri": "https://localhost:8080/",
          "height": 173
        },
        "outputId": "c3ce818b-7521-42bb-f1a4-6881c8a7d149"
      },
      "source": [
        "learning_rate = 0.01\n",
        "# we define the loss and optimiser for the network\n",
        "loss_op = tf.reduce_mean(tf.nn.softmax_cross_entropy_with_logits(logits=logits, labels=Y))\n",
        "optimiser = tf.train.AdamOptimizer(learning_rate=learning_rate)\n",
        "train_op = optimiser.minimize(loss_op)"
      ],
      "execution_count": 35,
      "outputs": [
        {
          "output_type": "stream",
          "text": [
            "WARNING:tensorflow:From /usr/local/lib/python3.6/dist-packages/tensorflow/python/util/dispatch.py:201: softmax_cross_entropy_with_logits (from tensorflow.python.ops.nn_ops) is deprecated and will be removed in a future version.\n",
            "Instructions for updating:\n",
            "\n",
            "Future major versions of TensorFlow will allow gradients to flow\n",
            "into the labels input on backprop by default.\n",
            "\n",
            "See `tf.nn.softmax_cross_entropy_with_logits_v2`.\n",
            "\n"
          ],
          "name": "stdout"
        }
      ]
    },
    {
      "cell_type": "code",
      "metadata": {
        "id": "3cOQHftyzpBD",
        "colab_type": "code",
        "colab": {}
      },
      "source": [
        "# initialise the variables\n",
        "init = tf.global_variables_initializer()"
      ],
      "execution_count": 36,
      "outputs": []
    },
    {
      "cell_type": "code",
      "metadata": {
        "id": "4Bhek2we0bWk",
        "colab_type": "code",
        "colab": {}
      },
      "source": [
        "epochs = 20\n",
        "batch_size = 1000\n",
        "iteration = len(x_train) // batch_size"
      ],
      "execution_count": 37,
      "outputs": []
    },
    {
      "cell_type": "code",
      "metadata": {
        "id": "JN3OwJdY0uCr",
        "colab_type": "code",
        "colab": {
          "base_uri": "https://localhost:8080/",
          "height": 374
        },
        "outputId": "e795e5a9-5d92-4745-d7a6-a9052cade054"
      },
      "source": [
        "# train model\n",
        "with tf.Session() as session:\n",
        "  session.run(init)\n",
        "  for epoch in range(epochs):\n",
        "    average_cost = 0\n",
        "    start, end = 0, batch_size\n",
        "    for i in range(iteration):\n",
        "      batch_x, batch_y = x_train[start: end], y_train[start: end]\n",
        "      _, loss = session.run([train_op, loss_op], feed_dict={X: batch_x, Y: batch_y})\n",
        "      start += batch_size\n",
        "      end += batch_size\n",
        "      #average loss\n",
        "      average_cost += loss/iteration\n",
        "    print(\"Epoch========{}\".format(epoch))\n",
        "  # evaluate model\n",
        "  prediction = tf.nn.softmax(logits)\n",
        "  ground_truth = tf.equal(tf.argmax(prediction, 1), tf.argmax(Y, 1))\n",
        "  accuracy = tf.reduce_mean(tf.cast(ground_truth, \"float\"))\n",
        "  print(\"Accuracy: {}\".format(accuracy.eval({X: test_images, Y: y_test})))"
      ],
      "execution_count": 45,
      "outputs": [
        {
          "output_type": "stream",
          "text": [
            "Epoch========0\n",
            "Epoch========1\n",
            "Epoch========2\n",
            "Epoch========3\n",
            "Epoch========4\n",
            "Epoch========5\n",
            "Epoch========6\n",
            "Epoch========7\n",
            "Epoch========8\n",
            "Epoch========9\n",
            "Epoch========10\n",
            "Epoch========11\n",
            "Epoch========12\n",
            "Epoch========13\n",
            "Epoch========14\n",
            "Epoch========15\n",
            "Epoch========16\n",
            "Epoch========17\n",
            "Epoch========18\n",
            "Epoch========19\n",
            "Accuracy: 0.9100000262260437\n"
          ],
          "name": "stdout"
        }
      ]
    }
  ]
}
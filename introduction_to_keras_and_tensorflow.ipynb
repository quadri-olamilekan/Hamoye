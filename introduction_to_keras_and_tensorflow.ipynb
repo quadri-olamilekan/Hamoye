{
  "nbformat": 4,
  "nbformat_minor": 0,
  "metadata": {
    "colab": {
      "name": "introduction_to_keras_and_tensorflow.ipynb",
      "provenance": [],
      "collapsed_sections": [],
      "toc_visible": true,
      "authorship_tag": "ABX9TyOUVB6ljmknDYkoVu+1Ivkx",
      "include_colab_link": true
    },
    "kernelspec": {
      "name": "python3",
      "display_name": "Python 3"
    }
  },
  "cells": [
    {
      "cell_type": "markdown",
      "metadata": {
        "id": "view-in-github",
        "colab_type": "text"
      },
      "source": [
        "<a href=\"https://colab.research.google.com/github/quadribello/Hamoye/blob/master/introduction_to_keras_and_tensorflow.ipynb\" target=\"_parent\"><img src=\"https://colab.research.google.com/assets/colab-badge.svg\" alt=\"Open In Colab\"/></a>"
      ]
    },
    {
      "cell_type": "code",
      "metadata": {
        "id": "Jf7dNLktqv-M",
        "colab_type": "code",
        "colab": {}
      },
      "source": [
        "import numpy as np\n",
        "import matplotlib.pyplot as plt\n",
        "import tensorflow as tf \n",
        "from tensorflow import keras \n",
        "mnist = keras.datasets.mnist\n",
        "(train_images, train_labels), (test_images, test_labels) = mnist.load_data()"
      ],
      "execution_count": 1,
      "outputs": []
    },
    {
      "cell_type": "code",
      "metadata": {
        "id": "NBJy_oSvH1oy",
        "colab_type": "code",
        "colab": {
          "base_uri": "https://localhost:8080/",
          "height": 34
        },
        "outputId": "a2d9a2b6-a35c-47b2-e9e3-aab3a876065c"
      },
      "source": [
        "print(\"Training data: {},{}\".format(train_images.shape, train_labels.shape))"
      ],
      "execution_count": 2,
      "outputs": [
        {
          "output_type": "stream",
          "text": [
            "Training data: (60000, 28, 28),(60000,)\n"
          ],
          "name": "stdout"
        }
      ]
    },
    {
      "cell_type": "code",
      "metadata": {
        "id": "oee56NqbITAX",
        "colab_type": "code",
        "colab": {
          "base_uri": "https://localhost:8080/",
          "height": 34
        },
        "outputId": "11f36fe9-60c2-4305-e8fd-e917c4ef95da"
      },
      "source": [
        "print(\"Test data: {},{}\".format(test_images.shape, test_labels.shape))"
      ],
      "execution_count": 3,
      "outputs": [
        {
          "output_type": "stream",
          "text": [
            "Test data: (10000, 28, 28),(10000,)\n"
          ],
          "name": "stdout"
        }
      ]
    },
    {
      "cell_type": "code",
      "metadata": {
        "id": "LkBWExVtI-n3",
        "colab_type": "code",
        "colab": {}
      },
      "source": [
        "class_labels = np.unique(train_labels)"
      ],
      "execution_count": 4,
      "outputs": []
    },
    {
      "cell_type": "code",
      "metadata": {
        "id": "0E9h5sdwJfYW",
        "colab_type": "code",
        "colab": {
          "base_uri": "https://localhost:8080/",
          "height": 34
        },
        "outputId": "8bb358aa-477f-43fe-e9cc-e99ec5ad6476"
      },
      "source": [
        "print(\"There are {} classes in the dataset. They are: {}\".format(len(class_labels), class_labels))"
      ],
      "execution_count": 5,
      "outputs": [
        {
          "output_type": "stream",
          "text": [
            "There are 10 classes in the dataset. They are: [0 1 2 3 4 5 6 7 8 9]\n"
          ],
          "name": "stdout"
        }
      ]
    },
    {
      "cell_type": "code",
      "metadata": {
        "id": "B-Wo2fKeJ8Ch",
        "colab_type": "code",
        "colab": {
          "base_uri": "https://localhost:8080/",
          "height": 195
        },
        "outputId": "bec6f86d-22ac-4218-851e-8f24f953e880"
      },
      "source": [
        "plt.figure(figsize=(8,5))\n",
        "plt.subplot(1,3,1)\n",
        "plt.imshow(train_images[0])\n",
        "plt.title(\"Label: {}\".format(train_labels[0]))\n",
        "plt.subplot(1,3,2)\n",
        "plt.imshow(train_images[2500])\n",
        "plt.title(\"Label: {}\".format(train_labels[2500]))\n",
        "plt.subplot(1,3,3)\n",
        "plt.imshow(test_images[12])\n",
        "plt.show()"
      ],
      "execution_count": 6,
      "outputs": [
        {
          "output_type": "display_data",
          "data": {
            "image/png": "[encoded data removed]",
            "text/plain": [
              "<Figure size 576x360 with 3 Axes>"
            ]
          },
          "metadata": {
            "tags": [],
            "needs_background": "light"
          }
        }
      ]
    },
    {
      "cell_type": "code",
      "metadata": {
        "id": "fMmtxMFDb4b-",
        "colab_type": "code",
        "colab": {}
      },
      "source": [
        "# As usual, we scale our dataset to range between 0 and 1. In this dataset, the pixel values range from 0 to 255.\n",
        "# Dividing the data by 255 scales to the required range\n",
        "train_images = train_images / 255.0\n",
        "test_images = test_images / 255.0 "
      ],
      "execution_count": 7,
      "outputs": []
    },
    {
      "cell_type": "code",
      "metadata": {
        "id": "oKAQn2tfhPsT",
        "colab_type": "code",
        "colab": {
          "base_uri": "https://localhost:8080/",
          "height": 85
        },
        "outputId": "48425ec9-dfd6-4bd1-9d7a-d48d9382adc3"
      },
      "source": [
        "# Split training data to training and validation sets.\n",
        "x_train = train_images[0:50000]\n",
        "x_val = train_images[50000:]\n",
        "y_train = train_labels[0:50000]\n",
        "y_val = train_labels[50000:]\n",
        "print(\"x_train: {}\".format(x_train.shape))\n",
        "print(\"x_val: {}\".format(x_val.shape))\n",
        "print(\"y_train: {}\".format(y_train.shape))\n",
        "print(\"y_val: {}\".format(y_val.shape))"
      ],
      "execution_count": 8,
      "outputs": [
        {
          "output_type": "stream",
          "text": [
            "x_train: (50000, 28, 28)\n",
            "x_val: (10000, 28, 28)\n",
            "y_train: (50000,)\n",
            "y_val: (10000,)\n"
          ],
          "name": "stdout"
        }
      ]
    },
    {
      "cell_type": "code",
      "metadata": {
        "id": "e4kvawm0THtO",
        "colab_type": "code",
        "colab": {
          "base_uri": "https://localhost:8080/",
          "height": 68
        },
        "outputId": "04c64588-1beb-4c27-cc03-e6c3ee109d73"
      },
      "source": [
        "# Reshape data from 28 * 28 array to a single array\n",
        "new_dimension = np.prod(train_images.shape[1:])\n",
        "x_train = x_train.reshape(x_train.shape[0], new_dimension)\n",
        "x_val = x_val.reshape(x_val.shape[0], new_dimension)\n",
        "test_images = test_images.reshape(test_images.shape[0], new_dimension)\n",
        "\n",
        "print(\"x_train: {}\".format(x_train.shape))\n",
        "print(\"x_val: {}\".format(x_val.shape))\n",
        "print(\"test_images: {}\".format(test_images.shape))"
      ],
      "execution_count": 9,
      "outputs": [
        {
          "output_type": "stream",
          "text": [
            "x_train: (50000, 784)\n",
            "x_val: (10000, 784)\n",
            "test_images: (10000, 784)\n"
          ],
          "name": "stdout"
        }
      ]
    },
    {
      "cell_type": "code",
      "metadata": {
        "id": "Hi3n8Sl5XVpc",
        "colab_type": "code",
        "colab": {}
      },
      "source": [
        "# Encode labels to categorical variables\n",
        "from  tensorflow.keras.utils import to_categorical\n",
        "no_labels = 10\n",
        "y_train = to_categorical(y_train, no_labels)\n",
        "y_val = to_categorical(y_val, no_labels)\n",
        "y_test = to_categorical(test_labels, no_labels)"
      ],
      "execution_count": 10,
      "outputs": []
    },
    {
      "cell_type": "markdown",
      "metadata": {
        "id": "HU5DKjgryxw9",
        "colab_type": "text"
      },
      "source": [
        "## Activation functions and Neural Networks Hyperparameters"
      ]
    },
    {
      "cell_type": "code",
      "metadata": {
        "id": "SBW6l1ypzwzz",
        "colab_type": "code",
        "colab": {
          "base_uri": "https://localhost:8080/",
          "height": 88
        },
        "outputId": "66665f8e-d2d4-46c9-be76-53cbb993bb5b"
      },
      "source": [
        "import tensorflow.compat.v1 as tf\n",
        "tf.disable_v2_behavior()"
      ],
      "execution_count": 11,
      "outputs": [
        {
          "output_type": "stream",
          "text": [
            "WARNING:tensorflow:From /usr/local/lib/python3.6/dist-packages/tensorflow/python/compat/v2_compat.py:96: disable_resource_variables (from tensorflow.python.ops.variable_scope) is deprecated and will be removed in a future version.\n",
            "Instructions for updating:\n",
            "non-resource variables are not supported in the long term\n"
          ],
          "name": "stdout"
        }
      ]
    },
    {
      "cell_type": "code",
      "metadata": {
        "id": "8Mn9__IJbGUP",
        "colab_type": "code",
        "colab": {}
      },
      "source": [
        "# inputs\n",
        "# placeholders are not enabled in tf 2\n",
        "X = tf.placeholder(tf.float32, [None, new_dimension])\n",
        "Y = tf.placeholder(tf.float32, [None, no_labels])"
      ],
      "execution_count": 12,
      "outputs": []
    },
    {
      "cell_type": "code",
      "metadata": {
        "id": "U_HgHY4a15Ve",
        "colab_type": "code",
        "colab": {}
      },
      "source": [
        "# create model architecture \n",
        "def multilayer_perceptron(x, no_classes, first_layer_neurons=256, second_layer_neurons=128):\n",
        "  # first layer\n",
        "  first_weight = tf.Variable(tf.random_uniform([new_dimension, first_layer_neurons]))\n",
        "  first_bias = tf.Variable(tf.zeros([first_layer_neurons]))\n",
        "  first_layer_output = tf.nn.relu(tf.add(tf.matmul(x, first_weight), first_bias))\n",
        "  # second layer \n",
        "  second_weight = tf.Variable(tf.random_uniform([first_layer_neurons, second_layer_neurons]))\n",
        "  second_bias = tf.Variable(tf.zeros([second_layer_neurons]))\n",
        "  second_layer_output = tf.nn.relu(tf.add(tf.matmul(first_layer_output, second_weight), second_bias))\n",
        "  # output layer \n",
        "  final_weight = tf.Variable(tf.random_uniform([second_layer_neurons, no_classes]))\n",
        "  final_bias = tf.Variable(tf.zeros([no_classes]))\n",
        "  logits = tf.add(tf.matmul(second_layer_output, final_weight), final_bias) \n",
        "  return logits\n",
        "logits = multilayer_perceptron(X, no_labels)\n"
      ],
      "execution_count": 13,
      "outputs": []
    },
    {
      "cell_type": "code",
      "metadata": {
        "id": "JJPUOsn4k_ls",
        "colab_type": "code",
        "colab": {
          "base_uri": "https://localhost:8080/",
          "height": 173
        },
        "outputId": "873246fb-eb23-4f53-c4be-673034c2d6c2"
      },
      "source": [
        "learning_rate = 0.01\n",
        "# we define the loss and optimiser for the network\n",
        "loss_op = tf.reduce_mean(tf.nn.softmax_cross_entropy_with_logits(logits=logits, labels=Y))\n",
        "optimiser = tf.train.AdamOptimizer(learning_rate=learning_rate)\n",
        "train_op = optimiser.minimize(loss_op)"
      ],
      "execution_count": 14,
      "outputs": [
        {
          "output_type": "stream",
          "text": [
            "WARNING:tensorflow:From /usr/local/lib/python3.6/dist-packages/tensorflow/python/util/dispatch.py:201: softmax_cross_entropy_with_logits (from tensorflow.python.ops.nn_ops) is deprecated and will be removed in a future version.\n",
            "Instructions for updating:\n",
            "\n",
            "Future major versions of TensorFlow will allow gradients to flow\n",
            "into the labels input on backprop by default.\n",
            "\n",
            "See `tf.nn.softmax_cross_entropy_with_logits_v2`.\n",
            "\n"
          ],
          "name": "stdout"
        }
      ]
    },
    {
      "cell_type": "code",
      "metadata": {
        "id": "3cOQHftyzpBD",
        "colab_type": "code",
        "colab": {}
      },
      "source": [
        "# initialise the variables\n",
        "init = tf.global_variables_initializer()"
      ],
      "execution_count": 15,
      "outputs": []
    },
    {
      "cell_type": "code",
      "metadata": {
        "id": "4Bhek2we0bWk",
        "colab_type": "code",
        "colab": {}
      },
      "source": [
        "epochs = 20\n",
        "batch_size = 1000\n",
        "iteration = len(x_train) // batch_size"
      ],
      "execution_count": 16,
      "outputs": []
    },
    {
      "cell_type": "code",
      "metadata": {
        "id": "JN3OwJdY0uCr",
        "colab_type": "code",
        "colab": {
          "base_uri": "https://localhost:8080/",
          "height": 374
        },
        "outputId": "2599aaf5-4e32-4819-b8f0-8fabc1e7f676"
      },
      "source": [
        "# train model\n",
        "with tf.Session() as session:\n",
        "  session.run(init)\n",
        "  for epoch in range(epochs):\n",
        "    average_cost = 0\n",
        "    start, end = 0, batch_size\n",
        "    for i in range(iteration):\n",
        "      batch_x, batch_y = x_train[start: end], y_train[start: end]\n",
        "      _, loss = session.run([train_op, loss_op], feed_dict={X: batch_x, Y: batch_y})\n",
        "      start += batch_size\n",
        "      end += batch_size\n",
        "      #average loss\n",
        "      average_cost += loss/iteration\n",
        "    print(\"Epoch========{}\".format(epoch))\n",
        "  # evaluate model\n",
        "  prediction = tf.nn.softmax(logits)\n",
        "  ground_truth = tf.equal(tf.argmax(prediction, 1), tf.argmax(Y, 1))\n",
        "  accuracy = tf.reduce_mean(tf.cast(ground_truth, \"float\"))\n",
        "  print(\"Accuracy: {}\".format(accuracy.eval({X: test_images, Y: y_test})))"
      ],
      "execution_count": 17,
      "outputs": [
        {
          "output_type": "stream",
          "text": [
            "Epoch========0\n",
            "Epoch========1\n",
            "Epoch========2\n",
            "Epoch========3\n",
            "Epoch========4\n",
            "Epoch========5\n",
            "Epoch========6\n",
            "Epoch========7\n",
            "Epoch========8\n",
            "Epoch========9\n",
            "Epoch========10\n",
            "Epoch========11\n",
            "Epoch========12\n",
            "Epoch========13\n",
            "Epoch========14\n",
            "Epoch========15\n",
            "Epoch========16\n",
            "Epoch========17\n",
            "Epoch========18\n",
            "Epoch========19\n",
            "Accuracy: 0.9157999753952026\n"
          ],
          "name": "stdout"
        }
      ]
    },
    {
      "cell_type": "markdown",
      "metadata": {
        "id": "9MmbHqIW6nRM",
        "colab_type": "text"
      },
      "source": [
        "Lesson 2: Regularization and Optimization"
      ]
    },
    {
      "cell_type": "code",
      "metadata": {
        "id": "dxdC_dB76vEA",
        "colab_type": "code",
        "colab": {}
      },
      "source": [
        "# Building a Sequential Feed Forward Network in Keras\n",
        "from tensorflow.keras.layers import Dense\n",
        "from tensorflow.keras.models import Sequential\n"
      ],
      "execution_count": 18,
      "outputs": []
    },
    {
      "cell_type": "code",
      "metadata": {
        "id": "zXT-K4p37J2N",
        "colab_type": "code",
        "colab": {}
      },
      "source": [
        "model = Sequential()\n",
        "model.add(Dense(256, activation='relu', input_shape=(new_dimension,)))\n",
        "model.add(Dense(128, activation='relu'))\n",
        "model.add(Dense(no_labels, activation='softmax'))"
      ],
      "execution_count": 19,
      "outputs": []
    },
    {
      "cell_type": "code",
      "metadata": {
        "id": "he7Iufq18QR-",
        "colab_type": "code",
        "colab": {
          "base_uri": "https://localhost:8080/",
          "height": 819
        },
        "outputId": "f384b2ac-76e4-4db2-fabe-93f50d1a784e"
      },
      "source": [
        "model.compile(optimizer='adam', loss='categorical_crossentropy', metrics=['accuracy'])\n",
        "history = model.fit(x_train, y_train, validation_data=(x_val, y_val), epochs=20, batch_size=1000)\n",
        "test_loss, test_accuracy = model.evaluate(test_images, y_test)\n",
        "print('Test loss: {}'.format(test_loss))\n",
        "print('Test accuracy: {}'.format(test_accuracy))"
      ],
      "execution_count": 20,
      "outputs": [
        {
          "output_type": "stream",
          "text": [
            "Train on 50000 samples, validate on 10000 samples\n",
            "Epoch 1/20\n",
            "50000/50000 [==============================] - ETA: 0s - loss: 0.6650 - acc: 0.8214WARNING:tensorflow:From /usr/local/lib/python3.6/dist-packages/tensorflow/python/keras/engine/training_v1.py:2048: Model.state_updates (from tensorflow.python.keras.engine.training) is deprecated and will be removed in a future version.\n",
            "Instructions for updating:\n",
            "This property should not be used in TensorFlow 2.0, as updates are applied automatically.\n",
            "50000/50000 [==============================] - 1s 28us/sample - loss: 0.6650 - acc: 0.8214 - val_loss: 0.2508 - val_acc: 0.9259\n",
            "Epoch 2/20\n",
            "50000/50000 [==============================] - 1s 27us/sample - loss: 0.2281 - acc: 0.9333 - val_loss: 0.1769 - val_acc: 0.9508\n",
            "Epoch 3/20\n",
            "50000/50000 [==============================] - 1s 27us/sample - loss: 0.1659 - acc: 0.9517 - val_loss: 0.1432 - val_acc: 0.9587\n",
            "Epoch 4/20\n",
            "50000/50000 [==============================] - 1s 28us/sample - loss: 0.1320 - acc: 0.9621 - val_loss: 0.1238 - val_acc: 0.9659\n",
            "Epoch 5/20\n",
            "50000/50000 [==============================] - 1s 27us/sample - loss: 0.1061 - acc: 0.9694 - val_loss: 0.1111 - val_acc: 0.9680\n",
            "Epoch 6/20\n",
            "50000/50000 [==============================] - 1s 27us/sample - loss: 0.0871 - acc: 0.9751 - val_loss: 0.1003 - val_acc: 0.9702\n",
            "Epoch 7/20\n",
            "50000/50000 [==============================] - 1s 28us/sample - loss: 0.0730 - acc: 0.9789 - val_loss: 0.0948 - val_acc: 0.9720\n",
            "Epoch 8/20\n",
            "50000/50000 [==============================] - 1s 28us/sample - loss: 0.0621 - acc: 0.9824 - val_loss: 0.0910 - val_acc: 0.9727\n",
            "Epoch 9/20\n",
            "50000/50000 [==============================] - 1s 27us/sample - loss: 0.0543 - acc: 0.9850 - val_loss: 0.0876 - val_acc: 0.9747\n",
            "Epoch 10/20\n",
            "50000/50000 [==============================] - 1s 27us/sample - loss: 0.0455 - acc: 0.9874 - val_loss: 0.0820 - val_acc: 0.9762\n",
            "Epoch 11/20\n",
            "50000/50000 [==============================] - 1s 27us/sample - loss: 0.0390 - acc: 0.9899 - val_loss: 0.0801 - val_acc: 0.9761\n",
            "Epoch 12/20\n",
            "50000/50000 [==============================] - 1s 27us/sample - loss: 0.0333 - acc: 0.9918 - val_loss: 0.0835 - val_acc: 0.9761\n",
            "Epoch 13/20\n",
            "50000/50000 [==============================] - 1s 27us/sample - loss: 0.0288 - acc: 0.9930 - val_loss: 0.0775 - val_acc: 0.9773\n",
            "Epoch 14/20\n",
            "50000/50000 [==============================] - 1s 27us/sample - loss: 0.0256 - acc: 0.9940 - val_loss: 0.0799 - val_acc: 0.9768\n",
            "Epoch 15/20\n",
            "50000/50000 [==============================] - 1s 27us/sample - loss: 0.0222 - acc: 0.9948 - val_loss: 0.0763 - val_acc: 0.9766\n",
            "Epoch 16/20\n",
            "50000/50000 [==============================] - 1s 27us/sample - loss: 0.0182 - acc: 0.9963 - val_loss: 0.0795 - val_acc: 0.9758\n",
            "Epoch 17/20\n",
            "50000/50000 [==============================] - 1s 27us/sample - loss: 0.0158 - acc: 0.9969 - val_loss: 0.0771 - val_acc: 0.9771\n",
            "Epoch 18/20\n",
            "50000/50000 [==============================] - 1s 27us/sample - loss: 0.0135 - acc: 0.9975 - val_loss: 0.0781 - val_acc: 0.9774\n",
            "Epoch 19/20\n",
            "50000/50000 [==============================] - 1s 27us/sample - loss: 0.0112 - acc: 0.9982 - val_loss: 0.0753 - val_acc: 0.9777\n",
            "Epoch 20/20\n",
            "50000/50000 [==============================] - 1s 27us/sample - loss: 0.0095 - acc: 0.9987 - val_loss: 0.0801 - val_acc: 0.9770\n",
            "Test loss: 0.07490602607025648\n",
            "Test accuracy: 0.9782000184059143\n"
          ],
          "name": "stdout"
        }
      ]
    },
    {
      "cell_type": "code",
      "metadata": {
        "id": "9LP3GIt_-Bni",
        "colab_type": "code",
        "colab": {
          "base_uri": "https://localhost:8080/",
          "height": 312
        },
        "outputId": "d5ab8946-50e8-495e-f2fd-af73051b323b"
      },
      "source": [
        "# Check for Overfitting\n",
        "plt.figure()\n",
        "plt.plot(history.history['loss'], 'blue')\n",
        "plt.plot(history.history['val_loss'], 'red')\n",
        "plt.legend(['Training loss', 'Validation Loss'])\n",
        "plt.xlabel('Epochs')\n",
        "plt.ylabel('Loss')\n",
        "plt.title('Loss Curves - before regularization')"
      ],
      "execution_count": 21,
      "outputs": [
        {
          "output_type": "execute_result",
          "data": {
            "text/plain": [
              "Text(0.5, 1.0, 'Loss Curves - before regularization')"
            ]
          },
          "metadata": {
            "tags": []
          },
          "execution_count": 21
        },
        {
          "output_type": "display_data",
          "data": {
            "image/png": "[encoded data removed]",
            "text/plain": [
              "<Figure size 432x288 with 1 Axes>"
            ]
          },
          "metadata": {
            "tags": [],
            "needs_background": "light"
          }
        }
      ]
    },
    {
      "cell_type": "code",
      "metadata": {
        "id": "ivEsZPKnIgo9",
        "colab_type": "code",
        "colab": {}
      },
      "source": [
        "#Although the validation and training loss seem great, we can see that the validation #loss increases. This identifies overfitting in \n",
        "# our network. How do we proceed? #Introduce regularization to the model.\n",
        "from tensorflow.keras.layers import Dropout\n",
        "reg_model = Sequential()\n",
        "reg_model.add(Dense(256, activation='relu', input_shape=(new_dimension,)))\n",
        "reg_model.add(Dropout(0.4))\n",
        "reg_model.add(Dense(128, activation='relu'))\n",
        "reg_model.add(Dropout(0.4))\n",
        "reg_model.add(Dense(no_labels, activation='softmax'))"
      ],
      "execution_count": 22,
      "outputs": []
    },
    {
      "cell_type": "code",
      "metadata": {
        "id": "rx-DTOtmK4sp",
        "colab_type": "code",
        "colab": {}
      },
      "source": [
        "reg_model.compile(optimizer='adam', loss=tf.keras.losses.categorical_crossentropy, metrics=['accuracy'])"
      ],
      "execution_count": 23,
      "outputs": []
    },
    {
      "cell_type": "code",
      "metadata": {
        "id": "B1ZSAb1iLLtF",
        "colab_type": "code",
        "colab": {
          "base_uri": "https://localhost:8080/",
          "height": 748
        },
        "outputId": "8a53c2a4-53b8-4fbc-a3da-7760ef162aba"
      },
      "source": [
        "reg_history = reg_model.fit(x_train, y_train, validation_data=(x_val, y_val), epochs=20, batch_size=1000)\n",
        "test_loss, test_accuracy = reg_model.evaluate(test_images, y_test)\n",
        "print('Test loss: {}'.format(test_loss))\n",
        "print('Test accuracy: {}'.format(test_accuracy))"
      ],
      "execution_count": 24,
      "outputs": [
        {
          "output_type": "stream",
          "text": [
            "Train on 50000 samples, validate on 10000 samples\n",
            "Epoch 1/20\n",
            "50000/50000 [==============================] - 2s 34us/sample - loss: 0.9968 - acc: 0.6845 - val_loss: 0.2970 - val_acc: 0.9140\n",
            "Epoch 2/20\n",
            "50000/50000 [==============================] - 2s 33us/sample - loss: 0.3854 - acc: 0.8841 - val_loss: 0.2081 - val_acc: 0.9406\n",
            "Epoch 3/20\n",
            "50000/50000 [==============================] - 2s 33us/sample - loss: 0.2852 - acc: 0.9159 - val_loss: 0.1606 - val_acc: 0.9544\n",
            "Epoch 4/20\n",
            "50000/50000 [==============================] - 2s 32us/sample - loss: 0.2344 - acc: 0.9318 - val_loss: 0.1354 - val_acc: 0.9605\n",
            "Epoch 5/20\n",
            "50000/50000 [==============================] - 2s 32us/sample - loss: 0.2003 - acc: 0.9406 - val_loss: 0.1233 - val_acc: 0.9633\n",
            "Epoch 6/20\n",
            "50000/50000 [==============================] - 2s 32us/sample - loss: 0.1788 - acc: 0.9478 - val_loss: 0.1096 - val_acc: 0.9676\n",
            "Epoch 7/20\n",
            "50000/50000 [==============================] - 2s 32us/sample - loss: 0.1573 - acc: 0.9535 - val_loss: 0.1015 - val_acc: 0.9698\n",
            "Epoch 8/20\n",
            "50000/50000 [==============================] - 2s 33us/sample - loss: 0.1450 - acc: 0.9565 - val_loss: 0.0958 - val_acc: 0.9698\n",
            "Epoch 9/20\n",
            "50000/50000 [==============================] - 2s 33us/sample - loss: 0.1293 - acc: 0.9613 - val_loss: 0.0923 - val_acc: 0.9719\n",
            "Epoch 10/20\n",
            "50000/50000 [==============================] - 2s 32us/sample - loss: 0.1194 - acc: 0.9636 - val_loss: 0.0872 - val_acc: 0.9737\n",
            "Epoch 11/20\n",
            "50000/50000 [==============================] - 2s 33us/sample - loss: 0.1094 - acc: 0.9671 - val_loss: 0.0840 - val_acc: 0.9738\n",
            "Epoch 12/20\n",
            "50000/50000 [==============================] - 2s 34us/sample - loss: 0.1051 - acc: 0.9675 - val_loss: 0.0795 - val_acc: 0.9766\n",
            "Epoch 13/20\n",
            "50000/50000 [==============================] - 2s 34us/sample - loss: 0.1007 - acc: 0.9701 - val_loss: 0.0798 - val_acc: 0.9764\n",
            "Epoch 14/20\n",
            "50000/50000 [==============================] - 2s 34us/sample - loss: 0.0933 - acc: 0.9719 - val_loss: 0.0771 - val_acc: 0.9773\n",
            "Epoch 15/20\n",
            "50000/50000 [==============================] - 2s 35us/sample - loss: 0.0857 - acc: 0.9734 - val_loss: 0.0779 - val_acc: 0.9766\n",
            "Epoch 16/20\n",
            "50000/50000 [==============================] - 2s 32us/sample - loss: 0.0816 - acc: 0.9753 - val_loss: 0.0753 - val_acc: 0.9782\n",
            "Epoch 17/20\n",
            "50000/50000 [==============================] - 2s 32us/sample - loss: 0.0786 - acc: 0.9751 - val_loss: 0.0759 - val_acc: 0.9765\n",
            "Epoch 18/20\n",
            "50000/50000 [==============================] - 2s 32us/sample - loss: 0.0759 - acc: 0.9770 - val_loss: 0.0753 - val_acc: 0.9787\n",
            "Epoch 19/20\n",
            "50000/50000 [==============================] - 2s 33us/sample - loss: 0.0711 - acc: 0.9780 - val_loss: 0.0730 - val_acc: 0.9790\n",
            "Epoch 20/20\n",
            "50000/50000 [==============================] - 2s 32us/sample - loss: 0.0674 - acc: 0.9798 - val_loss: 0.0734 - val_acc: 0.9784\n",
            "Test loss: 0.06925022582665552\n",
            "Test accuracy: 0.9790999889373779\n"
          ],
          "name": "stdout"
        }
      ]
    },
    {
      "cell_type": "code",
      "metadata": {
        "id": "Su1kt6xINIl8",
        "colab_type": "code",
        "colab": {
          "base_uri": "https://localhost:8080/",
          "height": 312
        },
        "outputId": "c3c77f22-cc22-417e-ddf2-754283d653e6"
      },
      "source": [
        "# Check for Overfitting\n",
        "plt.figure()\n",
        "plt.plot(reg_history.history['loss'], 'blue')\n",
        "plt.plot(reg_history.history['val_loss'], 'red')\n",
        "plt.legend(['Training loss', 'Validation Loss'])\n",
        "plt.xlabel('Epochs')\n",
        "plt.ylabel('Loss')\n",
        "plt.title('Loss Curves - after regularization')"
      ],
      "execution_count": 25,
      "outputs": [
        {
          "output_type": "execute_result",
          "data": {
            "text/plain": [
              "Text(0.5, 1.0, 'Loss Curves - after regularization')"
            ]
          },
          "metadata": {
            "tags": []
          },
          "execution_count": 25
        },
        {
          "output_type": "display_data",
          "data": {
            "image/png": "[encoded data removed]",
            "text/plain": [
              "<Figure size 432x288 with 1 Axes>"
            ]
          },
          "metadata": {
            "tags": [],
            "needs_background": "light"
          }
        }
      ]
    }
  ]
}